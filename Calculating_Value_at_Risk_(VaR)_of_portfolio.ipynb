{
  "nbformat": 4,
  "nbformat_minor": 0,
  "metadata": {
    "colab": {
      "provenance": [],
      "include_colab_link": true
    },
    "kernelspec": {
      "name": "python3",
      "display_name": "Python 3"
    }
  },
  "cells": [
    {
      "cell_type": "markdown",
      "metadata": {
        "id": "view-in-github",
        "colab_type": "text"
      },
      "source": [
        "<a href=\"https://colab.research.google.com/github/Deepjyot-ML-workspace/Calculating-Value-at-Risk-VaR-of-portfolio/blob/main/Calculating_Value_at_Risk_(VaR)_of_portfolio.ipynb\" target=\"_parent\"><img src=\"https://colab.research.google.com/assets/colab-badge.svg\" alt=\"Open In Colab\"/></a>"
      ]
    },
    {
      "cell_type": "markdown",
      "metadata": {
        "id": "35-tYdXjJojh"
      },
      "source": []
    },
    {
      "cell_type": "markdown",
      "metadata": {
        "id": "BeO2dmERJ_3E"
      },
      "source": [
        "\n",
        "\n",
        "---\n",
        "\n"
      ]
    },
    {
      "cell_type": "markdown",
      "metadata": {
        "id": "Ukw5sfe0J7Pq"
      },
      "source": [
        "<p>Suppose you're given a portfolio of equities and asked to calculate the 'value at risk' (VaR) via the <a href=\"https://www.investopedia.com/ask/answers/041715/what-variancecovariance-matrix-or-parametric-method-value-risk-var.asp\" target=\"_blank\">variance-covariance method</a>.</p>\n",
        "<p>The VaR is a statistical risk management technique measuring the maximum loss that an investment portfolio is likely to face within a specified time frame with a certain degree of confidence. The VaR is a commonly calculated metric used within a suite of financial metrics and models to help aid in investment decisions.</p>\n",
        "<p>In order to calculate the VaR of your portfolio, you can follow the steps below:</p>\n",
        "<ol>\n",
        "  <li>Calculate periodic returns of the stocks in your portfolio</li>\n",
        "  <li>Create a covariance matrix based on (1)</li>\n",
        "  <li>Calculate the portfolio mean and standard deviation (weighted based on investment levels of each stock in portfolio)</li>\n",
        "  <li>Calculate the inverse of the normal cumulative distribution with a specified probability, standard deviation, and mean</li>\n",
        "   <li>Estimate the value at risk for the portfolio by subtracting the initial investment from the calculation in step 4</li>\n",
        "  </ol>\n",
        "  <p>To help get you started, you can reference this <a href=\"https://colab.research.google.com/drive/1dPrUZocrhG1dWyZP33jGaXiKg1oFSdpi\">Google Colab</a> notebook with the historical returns for a portfolio of the following equities:\n",
        "  <pre>['AAPL','FB', 'C', 'DIS']</pre>\n",
        "  </p>\n",
        "  <p>Full solution will be provided in python to premium users.</p>\n",
        "\n"
      ]
    },
    {
      "cell_type": "code",
      "metadata": {
        "id": "xVldGgGfwkBa"
      },
      "source": [
        "import pandas as pd\n",
        "from pandas_datareader import data as pdr\n",
        "import fix_yahoo_finance as yf\n",
        "import numpy as np\n",
        "import datetime as dt\n",
        "\n",
        "#Create our portfolio of equities\n",
        "tickers = ['AAPL','FB', 'C', 'DIS']\n",
        "\n",
        "#Set the investment weights (I arbitrarily picked for example)\n",
        "weights = np.array([.25, .3, .15, .3])\n",
        "\n",
        "#Set an initial investment level\n",
        "initial_investment = 1000000\n",
        "\n",
        "#Download closing prices\n",
        "data = pdr.get_data_yahoo(tickers, start=\"2018-01-01\", end=dt.date.today())['Close']\n",
        "\n",
        "#From the closing prices, calculate periodic returns\n",
        "returns = data.pct_change()"
      ],
      "execution_count": null,
      "outputs": []
    },
    {
      "cell_type": "code",
      "metadata": {
        "id": "bJUVtuS-womS",
        "outputId": "2d87a89c-e067-4a4c-b70a-51c40079e2ae",
        "colab": {
          "base_uri": "https://localhost:8080/",
          "height": 235
        }
      },
      "source": [
        "returns.head()"
      ],
      "execution_count": null,
      "outputs": [
        {
          "output_type": "execute_result",
          "data": {
            "text/html": [
              "<div>\n",
              "<style scoped>\n",
              "    .dataframe tbody tr th:only-of-type {\n",
              "        vertical-align: middle;\n",
              "    }\n",
              "\n",
              "    .dataframe tbody tr th {\n",
              "        vertical-align: top;\n",
              "    }\n",
              "\n",
              "    .dataframe thead th {\n",
              "        text-align: right;\n",
              "    }\n",
              "</style>\n",
              "<table border=\"1\" class=\"dataframe\">\n",
              "  <thead>\n",
              "    <tr style=\"text-align: right;\">\n",
              "      <th>Symbols</th>\n",
              "      <th>AAPL</th>\n",
              "      <th>C</th>\n",
              "      <th>DIS</th>\n",
              "      <th>FB</th>\n",
              "    </tr>\n",
              "    <tr>\n",
              "      <th>Date</th>\n",
              "      <th></th>\n",
              "      <th></th>\n",
              "      <th></th>\n",
              "      <th></th>\n",
              "    </tr>\n",
              "  </thead>\n",
              "  <tbody>\n",
              "    <tr>\n",
              "      <th>2018-01-02</th>\n",
              "      <td>NaN</td>\n",
              "      <td>NaN</td>\n",
              "      <td>NaN</td>\n",
              "      <td>NaN</td>\n",
              "    </tr>\n",
              "    <tr>\n",
              "      <th>2018-01-03</th>\n",
              "      <td>-0.000174</td>\n",
              "      <td>0.003093</td>\n",
              "      <td>0.004293</td>\n",
              "      <td>0.017914</td>\n",
              "    </tr>\n",
              "    <tr>\n",
              "      <th>2018-01-04</th>\n",
              "      <td>0.004645</td>\n",
              "      <td>0.012334</td>\n",
              "      <td>-0.000445</td>\n",
              "      <td>-0.001841</td>\n",
              "    </tr>\n",
              "    <tr>\n",
              "      <th>2018-01-05</th>\n",
              "      <td>0.011385</td>\n",
              "      <td>-0.001324</td>\n",
              "      <td>-0.005435</td>\n",
              "      <td>0.013671</td>\n",
              "    </tr>\n",
              "    <tr>\n",
              "      <th>2018-01-08</th>\n",
              "      <td>-0.003714</td>\n",
              "      <td>-0.011670</td>\n",
              "      <td>-0.014334</td>\n",
              "      <td>0.007653</td>\n",
              "    </tr>\n",
              "  </tbody>\n",
              "</table>\n",
              "</div>"
            ],
            "text/plain": [
              "Symbols         AAPL         C       DIS        FB\n",
              "Date                                              \n",
              "2018-01-02       NaN       NaN       NaN       NaN\n",
              "2018-01-03 -0.000174  0.003093  0.004293  0.017914\n",
              "2018-01-04  0.004645  0.012334 -0.000445 -0.001841\n",
              "2018-01-05  0.011385 -0.001324 -0.005435  0.013671\n",
              "2018-01-08 -0.003714 -0.011670 -0.014334  0.007653"
            ]
          },
          "metadata": {
            "tags": []
          },
          "execution_count": 4
        }
      ]
    },
    {
      "cell_type": "markdown",
      "metadata": {
        "id": "Ex_Wu2BgKOr0"
      },
      "source": [
        "\n",
        "\n",
        "---\n",
        "\n",
        "\n"
      ]
    },
    {
      "cell_type": "markdown",
      "metadata": {
        "id": "9_yzgZi9x4ay"
      },
      "source": [
        "**Solution:**\n"
      ]
    },
    {
      "cell_type": "code",
      "metadata": {
        "id": "m24rO-hZya0q",
        "outputId": "12f0012b-7205-44f2-fb35-57df27fc195b",
        "colab": {
          "base_uri": "https://localhost:8080/",
          "height": 34
        }
      },
      "source": [
        "from scipy.stats import norm\n",
        "\n",
        "#Generate Var-Cov matrix\n",
        "cov_matrix = returns.cov()\n",
        "\n",
        "#Calculate mean returns for each stock\n",
        "avg_rets = returns.mean()\n",
        "\n",
        "#Calculate mean returns for portfolio overall,\n",
        "#using mean, using dot product formula to\n",
        "#normalize against investment weights\n",
        "port_mean = avg_rets.dot(weights)\n",
        "\n",
        "#Calculate portfolio standard deviation\n",
        "port_stdev = np.sqrt(weights.T.dot(cov_matrix).dot(weights))\n",
        "\n",
        "#Calculate mean of given investment\n",
        "mean_investment = (1+port_mean) * initial_investment\n",
        "\n",
        "#Calculate standard deviation of given investmnet\n",
        "stdev_investment = initial_investment * port_stdev\n",
        "\n",
        "#Select our confidence interval (I'll choose 95% here)\n",
        "conf_level1 = 0.05\n",
        "\n",
        "#Using SciPy ppf method to generate values for the\n",
        "#inverse cumulative distribution function to a normal distribution\n",
        "#Plugging in the mean, standard deviation of our portfolio\n",
        "#as calculated above\n",
        "#https://docs.scipy.org/doc/scipy/reference/generated/scipy.stats.norm.html\n",
        "cutoff1 = norm.ppf(conf_level1, mean_investment, stdev_investment)\n",
        "\n",
        "#Finally, we can calculate the VaR at our confidence interval\n",
        "var_1d1 = initial_investment - cutoff1\n",
        "var_1d1"
      ],
      "execution_count": null,
      "outputs": [
        {
          "output_type": "execute_result",
          "data": {
            "text/plain": [
              "22347.7792230231"
            ]
          },
          "metadata": {
            "tags": []
          },
          "execution_count": 19
        }
      ]
    },
    {
      "cell_type": "markdown",
      "metadata": {
        "id": "8DPxckqx1JPS"
      },
      "source": [
        "<p>Here we are saying with 95% confidence that the loss of our portfolio will not exceed ~$22.3k over a one day period.</p>\n",
        "<p>What if we wanted to calculate this over a larger window of time? Below we can easily do that by just taking our 1 day VaR and multiplying it by the <a href=\"https://www.investopedia.com/articles/04/101304.asp\" target=\"_blank\">square root of the time period</a>.</p>"
      ]
    },
    {
      "cell_type": "code",
      "metadata": {
        "id": "YD94kFq2yrqs",
        "outputId": "17482fb1-9e2e-4ec7-a7c9-123dd46c88ff",
        "colab": {
          "base_uri": "https://localhost:8080/",
          "height": 527
        }
      },
      "source": [
        "#Calculate n Day VaR\n",
        "num_days = 30\n",
        "for x in range(1, num_days+1):\n",
        "    print(str(x) + \" day VaR @ 95% confidence: \" + str(np.round(var_1d1 * np.sqrt(x),2)))"
      ],
      "execution_count": null,
      "outputs": [
        {
          "output_type": "stream",
          "text": [
            "1 day VaR @ 95% confidence: 22347.78\n",
            "2 day VaR @ 95% confidence: 31604.53\n",
            "3 day VaR @ 95% confidence: 38707.49\n",
            "4 day VaR @ 95% confidence: 44695.56\n",
            "5 day VaR @ 95% confidence: 49971.15\n",
            "6 day VaR @ 95% confidence: 54740.66\n",
            "7 day VaR @ 95% confidence: 59126.67\n",
            "8 day VaR @ 95% confidence: 63209.06\n",
            "9 day VaR @ 95% confidence: 67043.34\n",
            "10 day VaR @ 95% confidence: 70669.88\n",
            "11 day VaR @ 95% confidence: 74119.2\n",
            "12 day VaR @ 95% confidence: 77414.98\n",
            "13 day VaR @ 95% confidence: 80576.06\n",
            "14 day VaR @ 95% confidence: 83617.73\n",
            "15 day VaR @ 95% confidence: 86552.58\n",
            "16 day VaR @ 95% confidence: 89391.12\n",
            "17 day VaR @ 95% confidence: 92142.25\n",
            "18 day VaR @ 95% confidence: 94813.6\n",
            "19 day VaR @ 95% confidence: 97411.71\n",
            "20 day VaR @ 95% confidence: 99942.31\n",
            "21 day VaR @ 95% confidence: 102410.39\n",
            "22 day VaR @ 95% confidence: 104820.38\n",
            "23 day VaR @ 95% confidence: 107176.18\n",
            "24 day VaR @ 95% confidence: 109481.31\n",
            "25 day VaR @ 95% confidence: 111738.9\n",
            "26 day VaR @ 95% confidence: 113951.76\n",
            "27 day VaR @ 95% confidence: 116122.47\n",
            "28 day VaR @ 95% confidence: 118253.33\n",
            "29 day VaR @ 95% confidence: 120346.47\n",
            "30 day VaR @ 95% confidence: 122403.83\n"
          ],
          "name": "stdout"
        }
      ]
    },
    {
      "cell_type": "code",
      "metadata": {
        "id": "NaQNoOWI3kFK"
      },
      "source": [],
      "execution_count": null,
      "outputs": []
    }
  ]
}